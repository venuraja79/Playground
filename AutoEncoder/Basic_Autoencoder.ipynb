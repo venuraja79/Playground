{
  "nbformat": 4,
  "nbformat_minor": 0,
  "metadata": {
    "colab": {
      "name": "Basic Autoencoder.ipynb",
      "version": "0.3.2",
      "provenance": [],
      "include_colab_link": true
    },
    "kernelspec": {
      "name": "python3",
      "display_name": "Python 3"
    }
  },
  "cells": [
    {
      "cell_type": "markdown",
      "metadata": {
        "id": "view-in-github",
        "colab_type": "text"
      },
      "source": [
        "<a href=\"https://colab.research.google.com/github/venuraja79/Playground/blob/master/AutoEncoder/Basic_Autoencoder.ipynb\" target=\"_parent\"><img src=\"https://colab.research.google.com/assets/colab-badge.svg\" alt=\"Open In Colab\"/></a>"
      ]
    },
    {
      "metadata": {
        "id": "RLG03uzN4OSo",
        "colab_type": "code",
        "colab": {
          "base_uri": "https://localhost:8080/",
          "height": 105
        },
        "outputId": "58281007-932a-44c4-b1e1-af1c86f7fe48"
      },
      "cell_type": "code",
      "source": [
        "from keras.layers import Input, Dense\n",
        "from keras.models import Model\n",
        "\n",
        "# this is the size of our encoded representations\n",
        "encoding_dim = 32  # 32 floats -> compression of factor 24.5, assuming the input is 784 floats\n",
        "\n",
        "# this is our input placeholder\n",
        "input_img = Input(shape=(784,))\n",
        "# \"encoded\" is the encoded representation of the input\n",
        "encoded = Dense(encoding_dim, activation='relu')(input_img)\n",
        "# \"decoded\" is the lossy reconstruction of the input\n",
        "decoded = Dense(784, activation='sigmoid')(encoded)\n",
        "\n",
        "# this model maps an input to its reconstruction\n",
        "autoencoder = Model(input_img, decoded)"
      ],
      "execution_count": 1,
      "outputs": [
        {
          "output_type": "stream",
          "text": [
            "Using TensorFlow backend.\n"
          ],
          "name": "stderr"
        },
        {
          "output_type": "stream",
          "text": [
            "WARNING:tensorflow:From /usr/local/lib/python3.6/dist-packages/tensorflow/python/framework/op_def_library.py:263: colocate_with (from tensorflow.python.framework.ops) is deprecated and will be removed in a future version.\n",
            "Instructions for updating:\n",
            "Colocations handled automatically by placer.\n"
          ],
          "name": "stdout"
        }
      ]
    },
    {
      "metadata": {
        "id": "UPka59vk4YoH",
        "colab_type": "code",
        "colab": {}
      },
      "cell_type": "code",
      "source": [
        "# this model maps an input to its encoded representation\n",
        "encoder = Model(input_img, encoded)\n",
        "\n",
        "# create a placeholder for an encoded (32-dimensional) input\n",
        "encoded_input = Input(shape=(encoding_dim,))\n",
        "# retrieve the last layer of the autoencoder model\n",
        "decoder_layer = autoencoder.layers[-1]\n",
        "# create the decoder model\n",
        "decoder = Model(encoded_input, decoder_layer(encoded_input))"
      ],
      "execution_count": 0,
      "outputs": []
    },
    {
      "metadata": {
        "id": "Sf0J6RI74fDH",
        "colab_type": "code",
        "colab": {}
      },
      "cell_type": "code",
      "source": [
        "autoencoder.compile(optimizer='adadelta', loss='binary_crossentropy')"
      ],
      "execution_count": 0,
      "outputs": []
    },
    {
      "metadata": {
        "id": "-DZW3Eb64iIG",
        "colab_type": "code",
        "colab": {
          "base_uri": "https://localhost:8080/",
          "height": 85
        },
        "outputId": "d828007c-1122-4524-efb8-bd3e9c08aae4"
      },
      "cell_type": "code",
      "source": [
        "from keras.datasets import mnist\n",
        "import numpy as np\n",
        "(x_train, _), (x_test, _) = mnist.load_data()\n",
        "\n",
        "x_train = x_train.astype('float32') / 255.\n",
        "x_test = x_test.astype('float32') / 255.\n",
        "x_train = x_train.reshape((len(x_train), np.prod(x_train.shape[1:])))\n",
        "x_test = x_test.reshape((len(x_test), np.prod(x_test.shape[1:])))\n",
        "print(x_train.shape)\n",
        "print(x_test.shape)"
      ],
      "execution_count": 5,
      "outputs": [
        {
          "output_type": "stream",
          "text": [
            "Downloading data from https://s3.amazonaws.com/img-datasets/mnist.npz\n",
            "11493376/11490434 [==============================] - 1s 0us/step\n",
            "(60000, 784)\n",
            "(10000, 784)\n"
          ],
          "name": "stdout"
        }
      ]
    },
    {
      "metadata": {
        "id": "v9wo3Ede4nYc",
        "colab_type": "code",
        "colab": {
          "base_uri": "https://localhost:8080/",
          "height": 1822
        },
        "outputId": "d477369a-732c-4148-d17b-e800282c5445"
      },
      "cell_type": "code",
      "source": [
        "autoencoder.fit(x_train, x_train,\n",
        "                epochs=50,\n",
        "                batch_size=256,\n",
        "                shuffle=True,\n",
        "                validation_data=(x_test, x_test))"
      ],
      "execution_count": 7,
      "outputs": [
        {
          "output_type": "stream",
          "text": [
            "WARNING:tensorflow:From /usr/local/lib/python3.6/dist-packages/tensorflow/python/ops/math_ops.py:3066: to_int32 (from tensorflow.python.ops.math_ops) is deprecated and will be removed in a future version.\n",
            "Instructions for updating:\n",
            "Use tf.cast instead.\n",
            "Train on 60000 samples, validate on 10000 samples\n",
            "Epoch 1/50\n",
            "60000/60000 [==============================] - 4s 73us/step - loss: 0.3670 - val_loss: 0.2705\n",
            "Epoch 2/50\n",
            "60000/60000 [==============================] - 4s 64us/step - loss: 0.2623 - val_loss: 0.2505\n",
            "Epoch 3/50\n",
            "60000/60000 [==============================] - 4s 66us/step - loss: 0.2408 - val_loss: 0.2289\n",
            "Epoch 4/50\n",
            "60000/60000 [==============================] - 4s 64us/step - loss: 0.2211 - val_loss: 0.2107\n",
            "Epoch 5/50\n",
            "60000/60000 [==============================] - 4s 61us/step - loss: 0.2051 - val_loss: 0.1971\n",
            "Epoch 6/50\n",
            "60000/60000 [==============================] - 4s 60us/step - loss: 0.1935 - val_loss: 0.1873\n",
            "Epoch 7/50\n",
            "60000/60000 [==============================] - 4s 59us/step - loss: 0.1849 - val_loss: 0.1799\n",
            "Epoch 8/50\n",
            "60000/60000 [==============================] - 4s 60us/step - loss: 0.1780 - val_loss: 0.1736\n",
            "Epoch 9/50\n",
            "60000/60000 [==============================] - 4s 59us/step - loss: 0.1721 - val_loss: 0.1681\n",
            "Epoch 10/50\n",
            "60000/60000 [==============================] - 4s 60us/step - loss: 0.1669 - val_loss: 0.1635\n",
            "Epoch 11/50\n",
            "60000/60000 [==============================] - 4s 59us/step - loss: 0.1623 - val_loss: 0.1588\n",
            "Epoch 12/50\n",
            "60000/60000 [==============================] - 4s 60us/step - loss: 0.1580 - val_loss: 0.1546\n",
            "Epoch 13/50\n",
            "60000/60000 [==============================] - 4s 61us/step - loss: 0.1541 - val_loss: 0.1510\n",
            "Epoch 14/50\n",
            "60000/60000 [==============================] - 4s 61us/step - loss: 0.1505 - val_loss: 0.1476\n",
            "Epoch 15/50\n",
            "60000/60000 [==============================] - 4s 59us/step - loss: 0.1472 - val_loss: 0.1443\n",
            "Epoch 16/50\n",
            "60000/60000 [==============================] - 4s 62us/step - loss: 0.1441 - val_loss: 0.1413\n",
            "Epoch 17/50\n",
            "60000/60000 [==============================] - 4s 61us/step - loss: 0.1413 - val_loss: 0.1385\n",
            "Epoch 18/50\n",
            "60000/60000 [==============================] - 4s 61us/step - loss: 0.1386 - val_loss: 0.1359\n",
            "Epoch 19/50\n",
            "60000/60000 [==============================] - 4s 59us/step - loss: 0.1361 - val_loss: 0.1334\n",
            "Epoch 20/50\n",
            "60000/60000 [==============================] - 4s 58us/step - loss: 0.1337 - val_loss: 0.1311\n",
            "Epoch 21/50\n",
            "60000/60000 [==============================] - 3s 58us/step - loss: 0.1314 - val_loss: 0.1288\n",
            "Epoch 22/50\n",
            "60000/60000 [==============================] - 3s 58us/step - loss: 0.1292 - val_loss: 0.1267\n",
            "Epoch 23/50\n",
            "60000/60000 [==============================] - 4s 59us/step - loss: 0.1271 - val_loss: 0.1246\n",
            "Epoch 24/50\n",
            "60000/60000 [==============================] - 4s 59us/step - loss: 0.1252 - val_loss: 0.1227\n",
            "Epoch 25/50\n",
            "60000/60000 [==============================] - 4s 59us/step - loss: 0.1233 - val_loss: 0.1209\n",
            "Epoch 26/50\n",
            "60000/60000 [==============================] - 4s 58us/step - loss: 0.1215 - val_loss: 0.1192\n",
            "Epoch 27/50\n",
            "60000/60000 [==============================] - 3s 58us/step - loss: 0.1199 - val_loss: 0.1175\n",
            "Epoch 28/50\n",
            "60000/60000 [==============================] - 3s 57us/step - loss: 0.1183 - val_loss: 0.1160\n",
            "Epoch 29/50\n",
            "60000/60000 [==============================] - 3s 57us/step - loss: 0.1169 - val_loss: 0.1147\n",
            "Epoch 30/50\n",
            "60000/60000 [==============================] - 3s 56us/step - loss: 0.1156 - val_loss: 0.1133\n",
            "Epoch 31/50\n",
            "60000/60000 [==============================] - 3s 57us/step - loss: 0.1143 - val_loss: 0.1121\n",
            "Epoch 32/50\n",
            "60000/60000 [==============================] - 3s 58us/step - loss: 0.1132 - val_loss: 0.1110\n",
            "Epoch 33/50\n",
            "60000/60000 [==============================] - 3s 57us/step - loss: 0.1121 - val_loss: 0.1100\n",
            "Epoch 34/50\n",
            "60000/60000 [==============================] - 3s 57us/step - loss: 0.1111 - val_loss: 0.1090\n",
            "Epoch 35/50\n",
            "60000/60000 [==============================] - 3s 56us/step - loss: 0.1102 - val_loss: 0.1081\n",
            "Epoch 36/50\n",
            "60000/60000 [==============================] - 3s 56us/step - loss: 0.1093 - val_loss: 0.1072\n",
            "Epoch 37/50\n",
            "60000/60000 [==============================] - 3s 57us/step - loss: 0.1085 - val_loss: 0.1065\n",
            "Epoch 38/50\n",
            "60000/60000 [==============================] - 3s 56us/step - loss: 0.1078 - val_loss: 0.1058\n",
            "Epoch 39/50\n",
            "60000/60000 [==============================] - 4s 60us/step - loss: 0.1071 - val_loss: 0.1051\n",
            "Epoch 40/50\n",
            "60000/60000 [==============================] - 4s 61us/step - loss: 0.1064 - val_loss: 0.1044\n",
            "Epoch 41/50\n",
            "60000/60000 [==============================] - 4s 60us/step - loss: 0.1058 - val_loss: 0.1039\n",
            "Epoch 42/50\n",
            "60000/60000 [==============================] - 3s 56us/step - loss: 0.1052 - val_loss: 0.1033\n",
            "Epoch 43/50\n",
            "60000/60000 [==============================] - 3s 56us/step - loss: 0.1047 - val_loss: 0.1028\n",
            "Epoch 44/50\n",
            "60000/60000 [==============================] - 3s 56us/step - loss: 0.1042 - val_loss: 0.1023\n",
            "Epoch 45/50\n",
            "60000/60000 [==============================] - 3s 57us/step - loss: 0.1037 - val_loss: 0.1018\n",
            "Epoch 46/50\n",
            "60000/60000 [==============================] - 4s 59us/step - loss: 0.1033 - val_loss: 0.1014\n",
            "Epoch 47/50\n",
            "60000/60000 [==============================] - 3s 54us/step - loss: 0.1029 - val_loss: 0.1010\n",
            "Epoch 48/50\n",
            "60000/60000 [==============================] - 3s 55us/step - loss: 0.1025 - val_loss: 0.1006\n",
            "Epoch 49/50\n",
            "60000/60000 [==============================] - 3s 55us/step - loss: 0.1021 - val_loss: 0.1003\n",
            "Epoch 50/50\n",
            "60000/60000 [==============================] - 3s 55us/step - loss: 0.1017 - val_loss: 0.0999\n"
          ],
          "name": "stdout"
        },
        {
          "output_type": "execute_result",
          "data": {
            "text/plain": [
              "<keras.callbacks.History at 0x7f60434152b0>"
            ]
          },
          "metadata": {
            "tags": []
          },
          "execution_count": 7
        }
      ]
    },
    {
      "metadata": {
        "id": "84vnns4T4xus",
        "colab_type": "code",
        "colab": {}
      },
      "cell_type": "code",
      "source": [
        "# encode and decode some digits\n",
        "# note that we take them from the *test* set\n",
        "encoded_imgs = encoder.predict(x_test)\n",
        "decoded_imgs = decoder.predict(encoded_imgs)"
      ],
      "execution_count": 0,
      "outputs": []
    },
    {
      "metadata": {
        "id": "M9h-fJKb41S3",
        "colab_type": "code",
        "colab": {
          "base_uri": "https://localhost:8080/",
          "height": 244
        },
        "outputId": "4d1ea7c7-a174-40cf-a227-7fe42d21cb43"
      },
      "cell_type": "code",
      "source": [
        "# use Matplotlib (don't ask)\n",
        "import matplotlib.pyplot as plt\n",
        "\n",
        "n = 10  # how many digits we will display\n",
        "plt.figure(figsize=(20, 4))\n",
        "for i in range(n):\n",
        "    # display original\n",
        "    ax = plt.subplot(2, n, i + 1)\n",
        "    plt.imshow(x_test[i].reshape(28, 28))\n",
        "    plt.gray()\n",
        "    ax.get_xaxis().set_visible(False)\n",
        "    ax.get_yaxis().set_visible(False)\n",
        "\n",
        "    # display reconstruction\n",
        "    ax = plt.subplot(2, n, i + 1 + n)\n",
        "    plt.imshow(decoded_imgs[i].reshape(28, 28))\n",
        "    plt.gray()\n",
        "    ax.get_xaxis().set_visible(False)\n",
        "    ax.get_yaxis().set_visible(False)\n",
        "plt.show()"
      ],
      "execution_count": 9,
      "outputs": [
        {
          "output_type": "display_data",
          "data": {
            "image/png": "[encoded data removed]",
            "text/plain": [
              "<Figure size 1440x288 with 20 Axes>"
            ]
          },
          "metadata": {
            "tags": []
          }
        }
      ]
    },
    {
      "metadata": {
        "id": "z34Os1IJ5f69",
        "colab_type": "code",
        "colab": {}
      },
      "cell_type": "code",
      "source": [
        ""
      ],
      "execution_count": 0,
      "outputs": []
    }
  ]
}